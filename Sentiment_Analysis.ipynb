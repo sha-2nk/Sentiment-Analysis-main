{
  "nbformat": 4,
  "nbformat_minor": 0,
  "metadata": {
    "colab": {
      "name": "Sentiment Analysis",
      "provenance": []
    },
    "kernelspec": {
      "name": "python3",
      "display_name": "Python 3"
    },
    "language_info": {
      "name": "python"
    },
    "accelerator": "GPU"
  },
  "cells": [
    {
      "cell_type": "code",
      "metadata": {
        "colab": {
          "base_uri": "https://localhost:8080/"
        },
        "id": "7by88zeI9vzU",
        "outputId": "e8e9f7ac-b049-4168-ce5f-a70896d9775f"
      },
      "source": [
        "!pwd"
      ],
      "execution_count": 1,
      "outputs": [
        {
          "output_type": "stream",
          "text": [
            "/content\n"
          ],
          "name": "stdout"
        }
      ]
    },
    {
      "cell_type": "code",
      "metadata": {
        "id": "eXfmxV87dWuu",
        "colab": {
          "base_uri": "https://localhost:8080/"
        },
        "outputId": "a7be5936-d81d-40aa-b38b-23fc32070a8f"
      },
      "source": [
        "from google.colab import drive\n",
        "drive.mount('/content/gdrive',force_remount=True)"
      ],
      "execution_count": 2,
      "outputs": [
        {
          "output_type": "stream",
          "text": [
            "Mounted at /content/gdrive\n"
          ],
          "name": "stdout"
        }
      ]
    },
    {
      "cell_type": "code",
      "metadata": {
        "id": "EPZzhlPaDBC_"
      },
      "source": [
        "import os\n",
        "import pandas as pd\n",
        "import sklearn\n",
        "from sklearn.model_selection import train_test_split\n",
        "from sklearn.feature_extraction.text import TfidfVectorizer\n",
        "from sklearn.svm import SVC\n",
        "from sklearn.metrics import confusion_matrix\n",
        "from sklearn.metrics import f1_score"
      ],
      "execution_count": 3,
      "outputs": []
    },
    {
      "cell_type": "code",
      "metadata": {
        "id": "ULK-0AHKDvHK"
      },
      "source": [
        "df = pd.read_csv('/content/gdrive/MyDrive/IMDB Dataset.csv')"
      ],
      "execution_count": 4,
      "outputs": []
    },
    {
      "cell_type": "code",
      "metadata": {
        "id": "R498hw5cDzLc",
        "colab": {
          "base_uri": "https://localhost:8080/"
        },
        "outputId": "a3ddf800-81bc-4c8b-e8c5-488aa6c89468"
      },
      "source": [
        "df['sentiment'].value_counts()\n",
        "# to check for imbalance in the data"
      ],
      "execution_count": 5,
      "outputs": [
        {
          "output_type": "execute_result",
          "data": {
            "text/plain": [
              "negative    25000\n",
              "positive    25000\n",
              "Name: sentiment, dtype: int64"
            ]
          },
          "metadata": {
            "tags": []
          },
          "execution_count": 5
        }
      ]
    },
    {
      "cell_type": "code",
      "metadata": {
        "id": "6o1HcotLWbYI"
      },
      "source": [
        "df_positive = df[df['sentiment']=='positive'][:2500]\n",
        "df_negative = df[df['sentiment']=='negative'][:2500]\n",
        "\n",
        "df_mini = pd.concat([df_positive, df_negative])"
      ],
      "execution_count": 6,
      "outputs": []
    },
    {
      "cell_type": "code",
      "metadata": {
        "id": "RLf83JAwD5dz"
      },
      "source": [
        "train, test = train_test_split(df_mini, test_size = 0.30, random_state = 0)"
      ],
      "execution_count": 7,
      "outputs": []
    },
    {
      "cell_type": "code",
      "metadata": {
        "id": "qf3nkSbQdg8o"
      },
      "source": [
        "train_x = train['review']\n",
        "train_y = train['sentiment']\n",
        "test_x = test['review']\n",
        "test_y = test['sentiment']"
      ],
      "execution_count": 8,
      "outputs": []
    },
    {
      "cell_type": "code",
      "metadata": {
        "colab": {
          "base_uri": "https://localhost:8080/"
        },
        "id": "AfsBnVaBbM_c",
        "outputId": "d0c8a929-8024-4971-b9f4-74d91687aa7a"
      },
      "source": [
        "train_y"
      ],
      "execution_count": 9,
      "outputs": [
        {
          "output_type": "execute_result",
          "data": {
            "text/plain": [
              "691     negative\n",
              "3096    positive\n",
              "2883    positive\n",
              "4401    positive\n",
              "2768    positive\n",
              "          ...   \n",
              "4820    negative\n",
              "1552    negative\n",
              "3302    positive\n",
              "185     negative\n",
              "442     negative\n",
              "Name: sentiment, Length: 3500, dtype: object"
            ]
          },
          "metadata": {
            "tags": []
          },
          "execution_count": 9
        }
      ]
    },
    {
      "cell_type": "code",
      "metadata": {
        "colab": {
          "base_uri": "https://localhost:8080/"
        },
        "id": "zj2gilsMmqqo",
        "outputId": "dad868aa-c836-4007-8395-be1b526cceac"
      },
      "source": [
        "'''\n",
        "TF-IDF (Term Frequency, Inverse Document Frequency)\n",
        "Suppose there is some word, which is frequent in all the\n",
        "documents, then if the dataset is balanced, then this word\n",
        "won't be significant to any of the documents and would be \n",
        "assigned less weight.\n",
        "There is some another word, which is frequent in only few\n",
        "of the documents and not in others, then this word is significant\n",
        "to these docs and would be assigned higher weights.\n",
        "This is what this method does, for some word, it calculates the \n",
        "overall frequency and multiplies it by the inverse frequency of \n",
        "the word overall documents.\n",
        "'''\n",
        "tfidf = TfidfVectorizer(stop_words = 'english')\n",
        "train_x_vector = tfidf.fit_transform(train_x)\n",
        "train_x_vector"
      ],
      "execution_count": 10,
      "outputs": [
        {
          "output_type": "execute_result",
          "data": {
            "text/plain": [
              "<3500x32996 sparse matrix of type '<class 'numpy.float64'>'\n",
              "\twith 312488 stored elements in Compressed Sparse Row format>"
            ]
          },
          "metadata": {
            "tags": []
          },
          "execution_count": 10
        }
      ]
    },
    {
      "cell_type": "code",
      "metadata": {
        "id": "WUuAGp_qm2B9"
      },
      "source": [
        "test_x_vector = tfidf.transform(test_x)"
      ],
      "execution_count": 11,
      "outputs": []
    },
    {
      "cell_type": "code",
      "metadata": {
        "id": "uqEhslp2-NQf",
        "colab": {
          "base_uri": "https://localhost:8080/"
        },
        "outputId": "6c58c37b-8c2f-4c22-8317-aa3e41364698"
      },
      "source": [
        "svc = SVC(kernel = 'linear')\n",
        "svc.fit(train_x_vector, train_y)"
      ],
      "execution_count": 12,
      "outputs": [
        {
          "output_type": "execute_result",
          "data": {
            "text/plain": [
              "SVC(C=1.0, break_ties=False, cache_size=200, class_weight=None, coef0=0.0,\n",
              "    decision_function_shape='ovr', degree=3, gamma='scale', kernel='linear',\n",
              "    max_iter=-1, probability=False, random_state=None, shrinking=True,\n",
              "    tol=0.001, verbose=False)"
            ]
          },
          "metadata": {
            "tags": []
          },
          "execution_count": 12
        }
      ]
    },
    {
      "cell_type": "code",
      "metadata": {
        "colab": {
          "base_uri": "https://localhost:8080/"
        },
        "id": "CdwSOCZ2RPOt",
        "outputId": "f724f48b-f65d-4b24-9c27-f3298c98c793"
      },
      "source": [
        "print(svc.predict(tfidf.transform(['A good movie'])))\n",
        "print(svc.predict(tfidf.transform(['An excellent movie'])))\n",
        "print(svc.predict(tfidf.transform(['I did not like this movie at all'])))"
      ],
      "execution_count": 13,
      "outputs": [
        {
          "output_type": "stream",
          "text": [
            "['positive']\n",
            "['positive']\n",
            "['negative']\n"
          ],
          "name": "stdout"
        }
      ]
    },
    {
      "cell_type": "code",
      "metadata": {
        "colab": {
          "base_uri": "https://localhost:8080/"
        },
        "id": "0J7TfSACX_A7",
        "outputId": "aad765cf-551f-4c07-cb3f-1f8169a18147"
      },
      "source": [
        "svc.score(test_x_vector, test_y)"
      ],
      "execution_count": 14,
      "outputs": [
        {
          "output_type": "execute_result",
          "data": {
            "text/plain": [
              "0.87"
            ]
          },
          "metadata": {
            "tags": []
          },
          "execution_count": 14
        }
      ]
    },
    {
      "cell_type": "code",
      "metadata": {
        "id": "baebtI-RZcMY"
      },
      "source": [
        "conf_mat = confusion_matrix(test_y, \n",
        "                            svc.predict(test_x_vector), \n",
        "                            labels=['positive', 'negative'])"
      ],
      "execution_count": 15,
      "outputs": []
    },
    {
      "cell_type": "code",
      "metadata": {
        "colab": {
          "base_uri": "https://localhost:8080/"
        },
        "id": "feomGKYLckMS",
        "outputId": "02f05aa4-eaba-4c81-cdd6-eca711abe02f"
      },
      "source": [
        "print(conf_mat)"
      ],
      "execution_count": 16,
      "outputs": [
        {
          "output_type": "stream",
          "text": [
            "[[645  76]\n",
            " [119 660]]\n"
          ],
          "name": "stdout"
        }
      ]
    },
    {
      "cell_type": "code",
      "metadata": {
        "colab": {
          "base_uri": "https://localhost:8080/"
        },
        "id": "pnCqYtvCdCRh",
        "outputId": "456efbac-41ea-403d-e460-be504afc4700"
      },
      "source": [
        "f1_score(test_y, svc.predict(test_x_vector),\n",
        "         labels=['positive', 'negative'],\n",
        "         average=None)"
      ],
      "execution_count": 17,
      "outputs": [
        {
          "output_type": "execute_result",
          "data": {
            "text/plain": [
              "array([0.86868687, 0.87128713])"
            ]
          },
          "metadata": {
            "tags": []
          },
          "execution_count": 17
        }
      ]
    },
    {
      "cell_type": "code",
      "metadata": {
        "id": "8nsBWt7LktX8"
      },
      "source": [
        ""
      ],
      "execution_count": null,
      "outputs": []
    }
  ]
}